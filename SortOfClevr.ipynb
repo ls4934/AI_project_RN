{
 "cells": [
  {
   "cell_type": "markdown",
   "id": "d536c96a-99e5-4a36-8330-49468f6247da",
   "metadata": {},
   "source": [
    "### Sort-Of-Clevr Dataset and States"
   ]
  },
  {
   "cell_type": "markdown",
   "id": "15982d4a-d95e-4525-9038-85d7d6a96b78",
   "metadata": {},
   "source": [
    "In the `generate_dataset.py` module, we write the sort-of-clevr dataset as a class (code adapted from the given repo). The module generates images with objects, and also generate 10 relational questions and 10 non-relational questions for each image. They are paired and further processed for training the relational networks. Such pixel-question-answer pairs are stored in the `sort-of-clevr-pixels-train/test.pickle` files. For each image, we store the features of the objects as a table and the results are stored in the `sort-of-clevr-states-train/test.pickle` files. These information are used for the later task when we train the model with 'state description' tasks. Additionally, we write some utility functions in the `utils.py` module to help us visualize the data. "
   ]
  },
  {
   "cell_type": "code",
   "execution_count": 1,
   "id": "33975383-e20f-4987-a709-65c7b17c24ee",
   "metadata": {},
   "outputs": [],
   "source": [
    "from utils import show_one_question, visualize_image\n",
    "import pickle\n",
    "import matplotlib.pyplot as plt\n",
    "import pandas as pd"
   ]
  },
  {
   "cell_type": "code",
   "execution_count": 2,
   "id": "c750bb17-3f57-4113-bcf5-81e33c6c63b8",
   "metadata": {},
   "outputs": [],
   "source": [
    "train_data = pickle.load(open('data/sort-of-clevr-pixels-train.pickle', 'rb'))\n",
    "first_train_data = train_data[0]\n",
    "first_train_image, first_relational, first_nonrelational = first_train_data"
   ]
  },
  {
   "cell_type": "markdown",
   "id": "3cc23306-0a59-47de-a5b0-9af37907bcd7",
   "metadata": {},
   "source": [
    "#### Show one generated image"
   ]
  },
  {
   "cell_type": "code",
   "execution_count": 3,
   "id": "ffa736c0-d042-4883-aab7-778ca1fe9627",
   "metadata": {},
   "outputs": [
    {
     "data": {
      "image/png": "[encoded data removed]",
      "text/plain": [
       "<Figure size 500x500 with 1 Axes>"
      ]
     },
     "metadata": {},
     "output_type": "display_data"
    }
   ],
   "source": [
    "plt.figure(figsize=(5,5))\n",
    "plt.imshow(visualize_image(first_train_image))\n",
    "plt.yticks([])\n",
    "plt.xticks([])\n",
    "plt.show()"
   ]
  },
  {
   "cell_type": "markdown",
   "id": "60424653-1abf-4eda-99c2-e3a5727d2f99",
   "metadata": {},
   "source": [
    "#### Show the state description"
   ]
  },
  {
   "cell_type": "code",
   "execution_count": 4,
   "id": "61a3f9e1-304b-4350-bd80-047b3bdca478",
   "metadata": {},
   "outputs": [],
   "source": [
    "train_states = pickle.load(open('data/sort-of-clevr-states-train.pickle', 'rb'))\n",
    "assert len(train_states) == len(train_data), \"inconsistent images and states\"\n",
    "first_train_states = train_states[0]"
   ]
  },
  {
   "cell_type": "code",
   "execution_count": 5,
   "id": "84b8d627-670e-49d1-aef0-3c5891a3fcf7",
   "metadata": {},
   "outputs": [
    {
     "data": {
      "text/html": [
       "<div>\n",
       "<style scoped>\n",
       "    .dataframe tbody tr th:only-of-type {\n",
       "        vertical-align: middle;\n",
       "    }\n",
       "\n",
       "    .dataframe tbody tr th {\n",
       "        vertical-align: top;\n",
       "    }\n",
       "\n",
       "    .dataframe thead th {\n",
       "        text-align: right;\n",
       "    }\n",
       "</style>\n",
       "<table border=\"1\" class=\"dataframe\">\n",
       "  <thead>\n",
       "    <tr style=\"text-align: right;\">\n",
       "      <th></th>\n",
       "      <th>ImageIndex</th>\n",
       "      <th>color</th>\n",
       "      <th>X</th>\n",
       "      <th>Y</th>\n",
       "      <th>Shape</th>\n",
       "      <th>Size</th>\n",
       "    </tr>\n",
       "  </thead>\n",
       "  <tbody>\n",
       "    <tr>\n",
       "      <th>0</th>\n",
       "      <td>0000</td>\n",
       "      <td>0</td>\n",
       "      <td>42</td>\n",
       "      <td>17</td>\n",
       "      <td>0</td>\n",
       "      <td>5</td>\n",
       "    </tr>\n",
       "    <tr>\n",
       "      <th>1</th>\n",
       "      <td>0000</td>\n",
       "      <td>1</td>\n",
       "      <td>14</td>\n",
       "      <td>10</td>\n",
       "      <td>1</td>\n",
       "      <td>5</td>\n",
       "    </tr>\n",
       "    <tr>\n",
       "      <th>2</th>\n",
       "      <td>0000</td>\n",
       "      <td>2</td>\n",
       "      <td>69</td>\n",
       "      <td>21</td>\n",
       "      <td>1</td>\n",
       "      <td>5</td>\n",
       "    </tr>\n",
       "    <tr>\n",
       "      <th>3</th>\n",
       "      <td>0000</td>\n",
       "      <td>3</td>\n",
       "      <td>30</td>\n",
       "      <td>55</td>\n",
       "      <td>0</td>\n",
       "      <td>5</td>\n",
       "    </tr>\n",
       "    <tr>\n",
       "      <th>4</th>\n",
       "      <td>0000</td>\n",
       "      <td>4</td>\n",
       "      <td>25</td>\n",
       "      <td>23</td>\n",
       "      <td>0</td>\n",
       "      <td>5</td>\n",
       "    </tr>\n",
       "    <tr>\n",
       "      <th>5</th>\n",
       "      <td>0000</td>\n",
       "      <td>5</td>\n",
       "      <td>16</td>\n",
       "      <td>33</td>\n",
       "      <td>0</td>\n",
       "      <td>5</td>\n",
       "    </tr>\n",
       "  </tbody>\n",
       "</table>\n",
       "</div>"
      ],
      "text/plain": [
       "  ImageIndex  color   X   Y  Shape  Size\n",
       "0       0000      0  42  17      0     5\n",
       "1       0000      1  14  10      1     5\n",
       "2       0000      2  69  21      1     5\n",
       "3       0000      3  30  55      0     5\n",
       "4       0000      4  25  23      0     5\n",
       "5       0000      5  16  33      0     5"
      ]
     },
     "execution_count": 5,
     "metadata": {},
     "output_type": "execute_result"
    }
   ],
   "source": [
    "state_df = pd.DataFrame(first_train_states, columns=['ImageIndex', 'color', 'X', 'Y', 'Shape', 'Size'])\n",
    "state_df"
   ]
  },
  {
   "cell_type": "markdown",
   "id": "23cc4fcd-2eef-41ea-8ab1-900c5c816d4f",
   "metadata": {},
   "source": [
    "#### Show sample data for relational questions"
   ]
  },
  {
   "cell_type": "code",
   "execution_count": 6,
   "id": "93b80a15-e988-4323-ba77-e2c5bc21b95d",
   "metadata": {},
   "outputs": [
    {
     "data": {
      "image/png": "[encoded data removed]",
      "text/plain": [
       "<Figure size 700x250 with 2 Axes>"
      ]
     },
     "metadata": {},
     "output_type": "display_data"
    }
   ],
   "source": [
    "index = 5\n",
    "show_one_question(first_train_image, first_relational[0][index], first_relational[1][index])"
   ]
  },
  {
   "cell_type": "markdown",
   "id": "7504b941-5fc1-4635-b822-495914ee8110",
   "metadata": {},
   "source": [
    "#### Show sample data for non-relational questions"
   ]
  },
  {
   "cell_type": "code",
   "execution_count": 7,
   "id": "afcf4acc-7b38-486d-aade-39bb94da7571",
   "metadata": {},
   "outputs": [
    {
     "data": {
      "image/png": "[encoded data removed]",
      "text/plain": [
       "<Figure size 700x250 with 2 Axes>"
      ]
     },
     "metadata": {},
     "output_type": "display_data"
    }
   ],
   "source": [
    "index = 7\n",
    "show_one_question(first_train_image, first_nonrelational[0][index], first_nonrelational[1][index])"
   ]
  }
 ],
 "metadata": {
  "kernelspec": {
   "display_name": "Python 3 (ipykernel)",
   "language": "python",
   "name": "python3"
  },
  "language_info": {
   "codemirror_mode": {
    "name": "ipython",
    "version": 3
   },
   "file_extension": ".py",
   "mimetype": "text/x-python",
   "name": "python",
   "nbconvert_exporter": "python",
   "pygments_lexer": "ipython3",
   "version": "3.10.8"
  }
 },
 "nbformat": 4,
 "nbformat_minor": 5
}
