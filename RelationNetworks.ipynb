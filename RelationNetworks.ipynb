{
 "cells": [
  {
   "cell_type": "code",
   "execution_count": 113,
   "id": "331800e0-41c0-402f-9d35-06c20453f978",
   "metadata": {},
   "outputs": [],
   "source": [
    "\n",
    "def translate(dataset):\n",
    "    img, (rel_questions, rel_answers), (norel_questions, norel_answers) = dataset\n",
    "    colors = ['red ', 'green ', 'blue ', 'orange ', 'gray ', 'yellow ']\n",
    "    answer_sheet = ['yes', 'no', 'rectangle', 'circle', '1', '2', '3', '4', '5', '6']\n",
    "    questions = rel_questions + norel_questions\n",
    "    answers = rel_answers + norel_answers\n",
    "\n",
    "    print(rel_questions)\n",
    "    print(rel_answers)\n",
    "\n",
    "\n",
    "    for question,answer in zip(questions,answers):\n",
    "        query = ''\n",
    "        query += colors[question.tolist()[0:6].index(1)]\n",
    "\n",
    "        if question[6] == 1:\n",
    "            if question[8] == 1:\n",
    "                query += 'shape?'\n",
    "            if question[9] == 1:\n",
    "                query += 'left?'\n",
    "            if question[10] == 1:\n",
    "                query += 'up?'\n",
    "        if question[7] == 1:\n",
    "            if question[8] == 1:\n",
    "                query += 'closest shape?'\n",
    "            if question[9] == 1:\n",
    "                query += 'furthest shape?'\n",
    "            if question[10] == 1:\n",
    "                query += 'count?'\n",
    "\n",
    "        ans = answer_sheet[answer]\n",
    "        print(query,'==>', ans)\n",
    "    #cv2.imwrite('sample.jpg',(img*255).astype(np.int32))\n",
    "    cv2.imshow('img',cv2.resize(img,(512,512)))\n",
    "    cv2.waitKey(0)\n",
    "    \n",
    "def decode_question(questions, answers):\n",
    "    for question,answer in zip(questions,answers):\n",
    "        query = ''\n",
    "        query += colors[question.tolist()[0:6].index(1)]\n",
    "        \n",
    "        # non-relational question\n",
    "        if question[NOREL_Q_IDX] == 1:\n",
    "            if question[SUB_Q_IDX] == 1:\n",
    "                query += 'shape?'\n",
    "            if question[SUB_Q_IDX + 1] == 1:\n",
    "                query += 'left?'\n",
    "            if question[SUB_Q_IDX + 2] == 1:\n",
    "                query += 'up?'\n",
    "                \n",
    "        # relational question\n",
    "        if question[REL_Q_IDX] == 1:\n",
    "            if question[SUB_Q_IDX] == 1:\n",
    "                query += 'closest shape?'\n",
    "            if question[SUB_Q_IDX + 1] == 1:\n",
    "                query += 'furthest shape?'\n",
    "            if question[SUB_Q_IDX + 2] == 1:\n",
    "                query += 'count?'\n",
    "\n",
    "        ans = answer_sheet[answer]\n",
    "        print(query,'==>', ans)\n"
   ]
  },
  {
   "cell_type": "code",
   "execution_count": null,
   "id": "12c1c4e2-ae84-4f9f-8853-924289ab1bd0",
   "metadata": {},
   "outputs": [],
   "source": [
    "import pickle\n",
    "import cv2\n",
    "import numpy as np\n",
    "import os\n",
    "import random\n",
    "import warnings\n",
    "import argparse\n",
    "import math\n",
    "import matplotlib.pyplot as plt\n",
    "\n",
    "import torch\n",
    "import torch.nn as nn\n",
    "import torch.nn.functional as F\n",
    "import torch.optim as optim\n",
    "from torch.autograd import Variable\n"
   ]
  },
  {
   "cell_type": "code",
   "execution_count": null,
   "id": "62c467cc-ba8c-4c94-955a-fe5a7599c7aa",
   "metadata": {},
   "outputs": [],
   "source": []
  },
  {
   "cell_type": "code",
   "execution_count": 2,
   "id": "7fd903d9-866a-4133-aa8b-510488394519",
   "metadata": {},
   "outputs": [],
   "source": [
    "data = pickle.load(open(\"relational-networks/data/sort-of-clevr.pickle\", 'rb'))"
   ]
  },
  {
   "cell_type": "code",
   "execution_count": 3,
   "id": "2c816254-efa4-44f3-9b4e-0ba536d043e2",
   "metadata": {},
   "outputs": [
    {
     "data": {
      "text/plain": [
       "(9800, 200)"
      ]
     },
     "execution_count": 3,
     "metadata": {},
     "output_type": "execute_result"
    }
   ],
   "source": [
    "len(data[0]), len(data[1])"
   ]
  },
  {
   "cell_type": "code",
   "execution_count": 53,
   "id": "8e8eda88-3a71-4123-b8e7-bfdaba57c977",
   "metadata": {},
   "outputs": [],
   "source": [
    "cv2.imshow('img', cv2.resize(data[0][0][0], (512, 512)))"
   ]
  },
  {
   "cell_type": "code",
   "execution_count": 61,
   "id": "c581e339-a49f-46d9-b923-e73945af8575",
   "metadata": {},
   "outputs": [
    {
     "data": {
      "text/plain": [
       "True"
      ]
     },
     "execution_count": 61,
     "metadata": {},
     "output_type": "execute_result"
    }
   ],
   "source": [
    "cv2.imwrite('sample1.jpg',(data[0][0][0]*255).astype(np.int32))"
   ]
  },
  {
   "cell_type": "code",
   "execution_count": 6,
   "id": "d86eab2a-cdc1-42b0-9ecb-e64ae273de3f",
   "metadata": {},
   "outputs": [],
   "source": [
    "cv2.imshow('img', data[0][0][0])"
   ]
  },
  {
   "cell_type": "code",
   "execution_count": 47,
   "id": "dd4733d7-9b37-4fde-ba29-7a98bb961806",
   "metadata": {},
   "outputs": [],
   "source": []
  },
  {
   "cell_type": "code",
   "execution_count": 58,
   "id": "6cf5ec80-de8c-49a9-a823-63028054387c",
   "metadata": {},
   "outputs": [
    {
     "ename": "error",
     "evalue": "OpenCV(4.6.0) /Users/runner/work/opencv-python/opencv-python/opencv/modules/imgproc/src/color.simd_helpers.hpp:94: error: (-2:Unspecified error) in function 'cv::impl::(anonymous namespace)::CvtHelper<cv::impl::(anonymous namespace)::Set<3, 4, -1>, cv::impl::(anonymous namespace)::Set<3, 4, -1>, cv::impl::(anonymous namespace)::Set<0, 2, 5>, cv::impl::(anonymous namespace)::NONE>::CvtHelper(cv::InputArray, cv::OutputArray, int) [VScn = cv::impl::(anonymous namespace)::Set<3, 4, -1>, VDcn = cv::impl::(anonymous namespace)::Set<3, 4, -1>, VDepth = cv::impl::(anonymous namespace)::Set<0, 2, 5>, sizePolicy = cv::impl::(anonymous namespace)::NONE]'\n> Unsupported depth of input image:\n>     'VDepth::contains(depth)'\n> where\n>     'depth' is 6 (CV_64F)\n",
     "output_type": "error",
     "traceback": [
      "\u001b[0;31m---------------------------------------------------------------------------\u001b[0m",
      "\u001b[0;31merror\u001b[0m                                     Traceback (most recent call last)",
      "Cell \u001b[0;32mIn[58], line 1\u001b[0m\n\u001b[0;32m----> 1\u001b[0m plt\u001b[38;5;241m.\u001b[39mimshow(\u001b[43mcv2\u001b[49m\u001b[38;5;241;43m.\u001b[39;49m\u001b[43mcvtColor\u001b[49m\u001b[43m(\u001b[49m\u001b[43mcv2\u001b[49m\u001b[38;5;241;43m.\u001b[39;49m\u001b[43mresize\u001b[49m\u001b[43m(\u001b[49m\u001b[43mdata\u001b[49m\u001b[43m[\u001b[49m\u001b[38;5;241;43m0\u001b[39;49m\u001b[43m]\u001b[49m\u001b[43m[\u001b[49m\u001b[38;5;241;43m0\u001b[39;49m\u001b[43m]\u001b[49m\u001b[43m[\u001b[49m\u001b[38;5;241;43m0\u001b[39;49m\u001b[43m]\u001b[49m\u001b[43m,\u001b[49m\u001b[43m \u001b[49m\u001b[43m(\u001b[49m\u001b[38;5;241;43m512\u001b[39;49m\u001b[43m,\u001b[49m\u001b[43m \u001b[49m\u001b[38;5;241;43m512\u001b[39;49m\u001b[43m)\u001b[49m\u001b[43m)\u001b[49m\u001b[43m,\u001b[49m\u001b[43m \u001b[49m\u001b[43mcv2\u001b[49m\u001b[38;5;241;43m.\u001b[39;49m\u001b[43mCOLOR_BGR2RGB\u001b[49m\u001b[43m)\u001b[49m)\n",
      "\u001b[0;31merror\u001b[0m: OpenCV(4.6.0) /Users/runner/work/opencv-python/opencv-python/opencv/modules/imgproc/src/color.simd_helpers.hpp:94: error: (-2:Unspecified error) in function 'cv::impl::(anonymous namespace)::CvtHelper<cv::impl::(anonymous namespace)::Set<3, 4, -1>, cv::impl::(anonymous namespace)::Set<3, 4, -1>, cv::impl::(anonymous namespace)::Set<0, 2, 5>, cv::impl::(anonymous namespace)::NONE>::CvtHelper(cv::InputArray, cv::OutputArray, int) [VScn = cv::impl::(anonymous namespace)::Set<3, 4, -1>, VDcn = cv::impl::(anonymous namespace)::Set<3, 4, -1>, VDepth = cv::impl::(anonymous namespace)::Set<0, 2, 5>, sizePolicy = cv::impl::(anonymous namespace)::NONE]'\n> Unsupported depth of input image:\n>     'VDepth::contains(depth)'\n> where\n>     'depth' is 6 (CV_64F)\n"
     ]
    }
   ],
   "source": [
    "plt.imshow(cv2.cvtColor(cv2.resize(data[0][0][0], (512, 512)), cv2.COLOR_BGR2RGB))"
   ]
  },
  {
   "cell_type": "code",
   "execution_count": 60,
   "id": "c09245e8-dc74-431b-bf69-e432c770f4f6",
   "metadata": {},
   "outputs": [
    {
     "data": {
      "text/plain": [
       "(512, 512, 3)"
      ]
     },
     "execution_count": 60,
     "metadata": {},
     "output_type": "execute_result"
    }
   ],
   "source": [
    "cv2.resize(data[0][0][0], (512, 512))"
   ]
  },
  {
   "cell_type": "markdown",
   "id": "f8a852d2-2b9a-4ebd-9d8f-ebd8a0b92976",
   "metadata": {},
   "source": [
    "Although neural networks like CNNs and MLPs are powerful in a variety of tasks, they struggle with relational reasoning. Relation network is a neural network module designed for relational reasoning tasks. It constrains the functional form of NN to avoid \n",
    "\n",
    "Relation Networks (RN) can be simply represented by equation below, where $O$ is a set of objects, denoted as $O = \\{o_1, o_2, ..., o_n\\}$. Meanwhile, $f_{\\phi}$ and $g_{\\theta}$ are MLPs with learnable and differentiable parameters $\\phi$ and $\\theta$.\n",
    "\n",
    "$$RN(O) = f_{\\phi} \\Big( \\sum_{i, j} g_{\\theta} (o_i, o_j)\\Big)$$\n"
   ]
  },
  {
   "cell_type": "code",
   "execution_count": 156,
   "id": "49ecc544-834c-4f22-9208-1fa21b6f6869",
   "metadata": {},
   "outputs": [],
   "source": [
    "class ConvInputModel(nn.Module):\n",
    "    def __init__(self):\n",
    "        super(ConvInputModel, self).__init__()\n",
    "        self.conv1 = nn.Conv2d(3, 32, 3, stride=2, padding=1)\n",
    "        self.batchNorm1 = nn.BatchNorm2d(32)\n",
    "        self.conv2 = nn.Conv2d(32, 64, 3, stride=2, padding=1)\n",
    "        self.batchNorm2 = nn.BatchNorm2d(64)\n",
    "        self.conv3 = nn.Conv2d(64, 128, 3, stride=2, padding=1)\n",
    "        self.batchNorm3 = nn.BatchNorm2d(128)\n",
    "        self.conv4 = nn.Conv2d(128, 256, 3, stride=2, padding=1)\n",
    "        self.batchNorm4 = nn.BatchNorm2d(256)\n",
    "        \n",
    "    def forward(self, img):\n",
    "        x = self.conv1(img)\n",
    "        x = F.relu(x)\n",
    "        x = self.batchNorm1(x)\n",
    "        x = self.conv2(x)\n",
    "        x = F.relu(x)\n",
    "        x = self.batchNorm2(x)\n",
    "        x = self.conv3(x)\n",
    "        x = F.relu(x)\n",
    "        x = self.batchNorm3(x)\n",
    "        x = self.conv4(x)\n",
    "        x = F.relu(x)\n",
    "        x = self.batchNorm4(x)\n",
    "        return x "
   ]
  },
  {
   "cell_type": "code",
   "execution_count": null,
   "id": "2380d222-08f6-414f-a3c7-7a78d3334bfd",
   "metadata": {},
   "outputs": [],
   "source": []
  },
  {
   "cell_type": "code",
   "execution_count": null,
   "id": "9b209949-504d-4586-8305-4f5eb2453a61",
   "metadata": {},
   "outputs": [],
   "source": []
  },
  {
   "cell_type": "code",
   "execution_count": null,
   "id": "0b697799-486b-4af0-bee5-42b111831801",
   "metadata": {},
   "outputs": [],
   "source": [
    "transform = transforms.Compose(\n",
    "    [transforms.ToTensor()]\n",
    "\n",
    "batch_size = 4\n",
    "\n",
    "trainset = torchvision.datasets.CIFAR10(root='./data', train=True,\n",
    "                                        download=True, transform=transform)\n",
    "trainloader = torch.utils.data.DataLoader(trainset, batch_size=batch_size,\n",
    "                                          shuffle=True, num_workers=2)\n",
    "\n",
    "testset = torchvision.datasets.CIFAR10(root='./data', train=False,\n",
    "                                       download=True, transform=transform)\n",
    "testloader = torch.utils.data.DataLoader(testset, batch_size=batch_size,\n",
    "                                         shuffle=False, num_workers=2)\n",
    "\n",
    "classes = ('plane', 'car', 'bird', 'cat',\n",
    "           'deer', 'dog', 'frog', 'horse', 'ship', 'truck')\n"
   ]
  },
  {
   "cell_type": "code",
   "execution_count": 130,
   "id": "085a009b-249e-4bdd-9019-b588c8a4916d",
   "metadata": {},
   "outputs": [],
   "source": [
    "model = ConvInputModel()"
   ]
  },
  {
   "cell_type": "code",
   "execution_count": 138,
   "id": "53cae189-c468-40a3-b0f4-b050953c9ccd",
   "metadata": {},
   "outputs": [
    {
     "data": {
      "text/plain": [
       "torch.Size([3, 75, 75])"
      ]
     },
     "execution_count": 138,
     "metadata": {},
     "output_type": "execute_result"
    }
   ],
   "source": [
    ".shape"
   ]
  },
  {
   "cell_type": "code",
   "execution_count": 139,
   "id": "3de82fb1-ce6f-4d34-abf0-ac515e4b4d5f",
   "metadata": {},
   "outputs": [
    {
     "ename": "ValueError",
     "evalue": "expected 4D input (got 3D input)",
     "output_type": "error",
     "traceback": [
      "\u001b[0;31m---------------------------------------------------------------------------\u001b[0m",
      "\u001b[0;31mValueError\u001b[0m                                Traceback (most recent call last)",
      "Cell \u001b[0;32mIn[139], line 1\u001b[0m\n\u001b[0;32m----> 1\u001b[0m \u001b[43mmodel\u001b[49m\u001b[43m(\u001b[49m\u001b[43mtorch\u001b[49m\u001b[38;5;241;43m.\u001b[39;49m\u001b[43mTensor\u001b[49m\u001b[43m(\u001b[49m\u001b[43mdata\u001b[49m\u001b[43m[\u001b[49m\u001b[38;5;241;43m0\u001b[39;49m\u001b[43m]\u001b[49m\u001b[43m)\u001b[49m\u001b[38;5;241;43m.\u001b[39;49m\u001b[43mpermute\u001b[49m\u001b[43m(\u001b[49m\u001b[38;5;241;43m2\u001b[39;49m\u001b[43m,\u001b[49m\u001b[38;5;241;43m0\u001b[39;49m\u001b[43m,\u001b[49m\u001b[38;5;241;43m1\u001b[39;49m\u001b[43m)\u001b[49m\u001b[43m)\u001b[49m\n",
      "File \u001b[0;32m/opt/anaconda3/envs/ml/lib/python3.10/site-packages/torch/nn/modules/module.py:1190\u001b[0m, in \u001b[0;36mModule._call_impl\u001b[0;34m(self, *input, **kwargs)\u001b[0m\n\u001b[1;32m   1186\u001b[0m \u001b[38;5;66;03m# If we don't have any hooks, we want to skip the rest of the logic in\u001b[39;00m\n\u001b[1;32m   1187\u001b[0m \u001b[38;5;66;03m# this function, and just call forward.\u001b[39;00m\n\u001b[1;32m   1188\u001b[0m \u001b[38;5;28;01mif\u001b[39;00m \u001b[38;5;129;01mnot\u001b[39;00m (\u001b[38;5;28mself\u001b[39m\u001b[38;5;241m.\u001b[39m_backward_hooks \u001b[38;5;129;01mor\u001b[39;00m \u001b[38;5;28mself\u001b[39m\u001b[38;5;241m.\u001b[39m_forward_hooks \u001b[38;5;129;01mor\u001b[39;00m \u001b[38;5;28mself\u001b[39m\u001b[38;5;241m.\u001b[39m_forward_pre_hooks \u001b[38;5;129;01mor\u001b[39;00m _global_backward_hooks\n\u001b[1;32m   1189\u001b[0m         \u001b[38;5;129;01mor\u001b[39;00m _global_forward_hooks \u001b[38;5;129;01mor\u001b[39;00m _global_forward_pre_hooks):\n\u001b[0;32m-> 1190\u001b[0m     \u001b[38;5;28;01mreturn\u001b[39;00m \u001b[43mforward_call\u001b[49m\u001b[43m(\u001b[49m\u001b[38;5;241;43m*\u001b[39;49m\u001b[38;5;28;43minput\u001b[39;49m\u001b[43m,\u001b[49m\u001b[43m \u001b[49m\u001b[38;5;241;43m*\u001b[39;49m\u001b[38;5;241;43m*\u001b[39;49m\u001b[43mkwargs\u001b[49m\u001b[43m)\u001b[49m\n\u001b[1;32m   1191\u001b[0m \u001b[38;5;66;03m# Do not call functions when jit is used\u001b[39;00m\n\u001b[1;32m   1192\u001b[0m full_backward_hooks, non_full_backward_hooks \u001b[38;5;241m=\u001b[39m [], []\n",
      "Cell \u001b[0;32mIn[129], line 27\u001b[0m, in \u001b[0;36mConvInputModel.forward\u001b[0;34m(self, img)\u001b[0m\n\u001b[1;32m     25\u001b[0m x \u001b[38;5;241m=\u001b[39m \u001b[38;5;28mself\u001b[39m\u001b[38;5;241m.\u001b[39mconv1(img)\n\u001b[1;32m     26\u001b[0m x \u001b[38;5;241m=\u001b[39m F\u001b[38;5;241m.\u001b[39mrelu(x)\n\u001b[0;32m---> 27\u001b[0m x \u001b[38;5;241m=\u001b[39m \u001b[38;5;28;43mself\u001b[39;49m\u001b[38;5;241;43m.\u001b[39;49m\u001b[43mbatchNorm1\u001b[49m\u001b[43m(\u001b[49m\u001b[43mx\u001b[49m\u001b[43m)\u001b[49m\n\u001b[1;32m     28\u001b[0m x \u001b[38;5;241m=\u001b[39m \u001b[38;5;28mself\u001b[39m\u001b[38;5;241m.\u001b[39mconv2(x)\n\u001b[1;32m     29\u001b[0m x \u001b[38;5;241m=\u001b[39m F\u001b[38;5;241m.\u001b[39mrelu(x)\n",
      "File \u001b[0;32m/opt/anaconda3/envs/ml/lib/python3.10/site-packages/torch/nn/modules/module.py:1190\u001b[0m, in \u001b[0;36mModule._call_impl\u001b[0;34m(self, *input, **kwargs)\u001b[0m\n\u001b[1;32m   1186\u001b[0m \u001b[38;5;66;03m# If we don't have any hooks, we want to skip the rest of the logic in\u001b[39;00m\n\u001b[1;32m   1187\u001b[0m \u001b[38;5;66;03m# this function, and just call forward.\u001b[39;00m\n\u001b[1;32m   1188\u001b[0m \u001b[38;5;28;01mif\u001b[39;00m \u001b[38;5;129;01mnot\u001b[39;00m (\u001b[38;5;28mself\u001b[39m\u001b[38;5;241m.\u001b[39m_backward_hooks \u001b[38;5;129;01mor\u001b[39;00m \u001b[38;5;28mself\u001b[39m\u001b[38;5;241m.\u001b[39m_forward_hooks \u001b[38;5;129;01mor\u001b[39;00m \u001b[38;5;28mself\u001b[39m\u001b[38;5;241m.\u001b[39m_forward_pre_hooks \u001b[38;5;129;01mor\u001b[39;00m _global_backward_hooks\n\u001b[1;32m   1189\u001b[0m         \u001b[38;5;129;01mor\u001b[39;00m _global_forward_hooks \u001b[38;5;129;01mor\u001b[39;00m _global_forward_pre_hooks):\n\u001b[0;32m-> 1190\u001b[0m     \u001b[38;5;28;01mreturn\u001b[39;00m \u001b[43mforward_call\u001b[49m\u001b[43m(\u001b[49m\u001b[38;5;241;43m*\u001b[39;49m\u001b[38;5;28;43minput\u001b[39;49m\u001b[43m,\u001b[49m\u001b[43m \u001b[49m\u001b[38;5;241;43m*\u001b[39;49m\u001b[38;5;241;43m*\u001b[39;49m\u001b[43mkwargs\u001b[49m\u001b[43m)\u001b[49m\n\u001b[1;32m   1191\u001b[0m \u001b[38;5;66;03m# Do not call functions when jit is used\u001b[39;00m\n\u001b[1;32m   1192\u001b[0m full_backward_hooks, non_full_backward_hooks \u001b[38;5;241m=\u001b[39m [], []\n",
      "File \u001b[0;32m/opt/anaconda3/envs/ml/lib/python3.10/site-packages/torch/nn/modules/batchnorm.py:138\u001b[0m, in \u001b[0;36m_BatchNorm.forward\u001b[0;34m(self, input)\u001b[0m\n\u001b[1;32m    137\u001b[0m \u001b[38;5;28;01mdef\u001b[39;00m \u001b[38;5;21mforward\u001b[39m(\u001b[38;5;28mself\u001b[39m, \u001b[38;5;28minput\u001b[39m: Tensor) \u001b[38;5;241m-\u001b[39m\u001b[38;5;241m>\u001b[39m Tensor:\n\u001b[0;32m--> 138\u001b[0m     \u001b[38;5;28;43mself\u001b[39;49m\u001b[38;5;241;43m.\u001b[39;49m\u001b[43m_check_input_dim\u001b[49m\u001b[43m(\u001b[49m\u001b[38;5;28;43minput\u001b[39;49m\u001b[43m)\u001b[49m\n\u001b[1;32m    140\u001b[0m     \u001b[38;5;66;03m# exponential_average_factor is set to self.momentum\u001b[39;00m\n\u001b[1;32m    141\u001b[0m     \u001b[38;5;66;03m# (when it is available) only so that it gets updated\u001b[39;00m\n\u001b[1;32m    142\u001b[0m     \u001b[38;5;66;03m# in ONNX graph when this node is exported to ONNX.\u001b[39;00m\n\u001b[1;32m    143\u001b[0m     \u001b[38;5;28;01mif\u001b[39;00m \u001b[38;5;28mself\u001b[39m\u001b[38;5;241m.\u001b[39mmomentum \u001b[38;5;129;01mis\u001b[39;00m \u001b[38;5;28;01mNone\u001b[39;00m:\n",
      "File \u001b[0;32m/opt/anaconda3/envs/ml/lib/python3.10/site-packages/torch/nn/modules/batchnorm.py:410\u001b[0m, in \u001b[0;36mBatchNorm2d._check_input_dim\u001b[0;34m(self, input)\u001b[0m\n\u001b[1;32m    408\u001b[0m \u001b[38;5;28;01mdef\u001b[39;00m \u001b[38;5;21m_check_input_dim\u001b[39m(\u001b[38;5;28mself\u001b[39m, \u001b[38;5;28minput\u001b[39m):\n\u001b[1;32m    409\u001b[0m     \u001b[38;5;28;01mif\u001b[39;00m \u001b[38;5;28minput\u001b[39m\u001b[38;5;241m.\u001b[39mdim() \u001b[38;5;241m!=\u001b[39m \u001b[38;5;241m4\u001b[39m:\n\u001b[0;32m--> 410\u001b[0m         \u001b[38;5;28;01mraise\u001b[39;00m \u001b[38;5;167;01mValueError\u001b[39;00m(\u001b[38;5;124m\"\u001b[39m\u001b[38;5;124mexpected 4D input (got \u001b[39m\u001b[38;5;132;01m{}\u001b[39;00m\u001b[38;5;124mD input)\u001b[39m\u001b[38;5;124m\"\u001b[39m\u001b[38;5;241m.\u001b[39mformat(\u001b[38;5;28minput\u001b[39m\u001b[38;5;241m.\u001b[39mdim()))\n",
      "\u001b[0;31mValueError\u001b[0m: expected 4D input (got 3D input)"
     ]
    }
   ],
   "source": [
    "model(torch.Tensor(data[0]).permute(2,0,1))"
   ]
  },
  {
   "cell_type": "code",
   "execution_count": null,
   "id": "76c2e07a-db3e-4acc-9333-eddc3766057e",
   "metadata": {},
   "outputs": [],
   "source": []
  },
  {
   "cell_type": "code",
   "execution_count": 96,
   "id": "caf9e1d7-1787-49c0-a429-44583d348d65",
   "metadata": {},
   "outputs": [],
   "source": []
  },
  {
   "cell_type": "code",
   "execution_count": 125,
   "id": "6e4d559a-14c9-4b0f-9d1a-ca92336d8370",
   "metadata": {},
   "outputs": [
    {
     "name": "stdout",
     "output_type": "stream",
     "text": [
      "directory ./data already exists\n"
     ]
    }
   ],
   "source": [
    "random.seed(1)\n",
    "np.random.seed(1)\n",
    "\n",
    "TRAIN_SIZE, TEST_SIZE = 9800, 200\n",
    "IMAGE_SIZE, SYMBOL_SIZE = 75, 5\n",
    "QUESTION_ENCODING_SIZE = 11  ## 6 for one-hot vector of color, 2 for question type (rel or norel), 3 for question subtype\n",
    "NOREL_Q_IDX, REL_Q_IDX = 6, 7\n",
    "SUB_Q_IDX = 8\n",
    "ANSWER_ENCODING = {\n",
    "    'no': 0, 'yes': 1, 'rectangle': 2, 'circle': 3, '1': 4, '2': 5, '3': 6, '4': 7, '5': 8, '6': 9\n",
    "}\n",
    "COLORS_LIST = ['red ', 'green ', 'blue ', 'orange ', 'gray ', 'yellow ']\n",
    "ANSWERS_LIST = ['no', 'yes', 'rectangle', 'circle', '1', '2', '3', '4', '5', '6']\n",
    "\n",
    "nb_questions = 10\n",
    "dirs = './data'\n",
    "\n",
    "COLORS = [\n",
    "    (0,0,255),##r\n",
    "    (0,255,0),##g\n",
    "    (255,0,0),##b\n",
    "    (0,156,255),##o\n",
    "    (128,128,128),##k\n",
    "    (0,255,255)##y\n",
    "]\n",
    "\n",
    "try:\n",
    "    os.makedirs(dirs)\n",
    "except:\n",
    "    print('directory {} already exists'.format(dirs))\n",
    "\n",
    "def generate_new_center(objects):\n",
    "    while True:\n",
    "        valid_new_center = True\n",
    "        center = np.random.randint(0 + SYMBOL_SIZE, IMAGE_SIZE - SYMBOL_SIZE, 2)        \n",
    "        if len(objects) > 0:\n",
    "            for color, c, shape in objects:\n",
    "                if ((center - c) ** 2).sum() < ((SYMBOL_SIZE * 2) ** 2):\n",
    "                    valid_new_center = False\n",
    "        if valid_new_center:\n",
    "            return center\n",
    "        \n",
    "def generate_new_object(objects, color_id, img):\n",
    "    # generate a new valid center\n",
    "    center = generate_new_center(objects)\n",
    "    # sample a shape from rectangle or circle of equal probabiliy\n",
    "    if random.random() < 0.5:\n",
    "        start = (center[0] - size, center[1] - size)\n",
    "        end = (center[0] + size, center[1] + size)\n",
    "        cv2.rectangle(img, start, end, COLORS[color_id], -1)\n",
    "        objects.append((color_id, center, 'rectangle'))\n",
    "    \n",
    "    else:\n",
    "        center_ = (center[0], center[1])\n",
    "        cv2.circle(img, center_, size, COLORS[color_id], -1)\n",
    "        objects.append((color_id, center, 'circle'))\n",
    "        \n",
    "def generate_non_relational_question(objects):\n",
    "    question = np.zeros((QUESTION_ENCODING_SIZE))\n",
    "    color_id = random.randint(0,5)\n",
    "    question[color_id] = 1\n",
    "    question[NOREL_Q_IDX] = 1\n",
    "    subtype = random.randint(0,2)\n",
    "    question[subtype + SUB_Q_IDX] = 1\n",
    "    \n",
    "    if subtype == 0:\n",
    "        # query shape -> rectangle/circle \n",
    "        answer = ANSWER_DICT[objects[color_id][2]]\n",
    "    elif subtype == 1: \n",
    "        # query horizontal position is on the left -> yes/no\n",
    "        horizontal_left = (objects[color_id][1][0] < IMAGE_SIZE / 2).astype(int)\n",
    "        answer = 1 - horizontal_left\n",
    "    elif subtype == 2:\n",
    "        # query vertical position is on the top -> yes/no\n",
    "        vertical_top = (objects[color_id][1][1] < IMAGE_SIZE / 2).astype(int)\n",
    "        answer = 1 - vertical_top\n",
    "        \n",
    "    return question, answer \n",
    "\n",
    "def generate_relational_question(objects):\n",
    "    question = np.zeros((QUESTION_ENCODING_SIZE))\n",
    "    color_id = random.randint(0,5)\n",
    "    question[color_id] = 1\n",
    "    question[REL_Q_IDX] = 1\n",
    "    subtype = random.randint(0,2)\n",
    "    question[subtype + SUB_Q_IDX] = 1\n",
    "    \n",
    "    if subtype in [0, 1]:\n",
    "        # query closest-to or furthest-from -> rectangle / circle\n",
    "        curr_obj = objects[color_id][1]\n",
    "        dist_list = [((curr_obj - obj[1]) ** 2).sum() for obj in objects]\n",
    "        dist_list[dist_list.index(0)] = math.inf\n",
    "        closest_ind = dist_list.index(min(dist_list))\n",
    "        furthest_ind = dist_list.index(max(dist_list))\n",
    "        if subtype == 0:\n",
    "            answer = ANSWER_DICT[objects[closest_ind][2]]\n",
    "        else:\n",
    "            answer = ANSWER_DICT[objects[furthest_ind][2]]\n",
    "\n",
    "    elif subtype == 2:\n",
    "        \"\"\"count->1~6\"\"\"\n",
    "        curr_obj = objects[color_id][2]\n",
    "        count = -1\n",
    "        for obj in objects:\n",
    "            if obj[2] == curr_obj:\n",
    "                count += 1 \n",
    "        answer = count + 4\n",
    "        \n",
    "    return question, answer \n",
    "\n",
    "def sample_one_image():\n",
    "    \n",
    "    objects = []\n",
    "    rel_questions, rel_answers = [], []\n",
    "    norel_questions, norel_answers = [], []\n",
    "    \n",
    "    # Getting a white image canvas\n",
    "    img = np.ones((IMAGE_SIZE, IMAGE_SIZE, 3)) * 255\n",
    "    \n",
    "    # Adding 6 objects, one color each\n",
    "    for color_id, color in enumerate(COLORS):  \n",
    "        generate_new_object(objects, color_id, img)\n",
    "    \n",
    "    # Sample questions \n",
    "    for _ in range(nb_questions):\n",
    "        norel_question, norel_answer = generate_non_relational_question(objects)\n",
    "        rel_question, rel_answer = generate_relational_question(objects)\n",
    "        norel_questions.append(norel_question)\n",
    "        norel_answers.append(norel_answer)\n",
    "        rel_questions.append(rel_question)\n",
    "        rel_answers.append(rel_answer)\n",
    "    \n",
    "    relations = (rel_questions, rel_answers)\n",
    "    norelations = (norel_questions, norel_answers)\n",
    "    \n",
    "    img = img/255.\n",
    "    dataset = (img, relations, norelations)\n",
    "    return dataset, objects"
   ]
  },
  {
   "cell_type": "code",
   "execution_count": 147,
   "id": "af3bf091-aeda-40a1-aef6-9efab20b79f2",
   "metadata": {},
   "outputs": [],
   "source": [
    "img_data = []\n",
    "for _ in range(TEST_SIZE):\n",
    "    one_data, one_obj = sample_one_image()\n",
    "    img_data.append(one_data[0])"
   ]
  },
  {
   "cell_type": "code",
   "execution_count": 148,
   "id": "5f1019f5-8fcf-4d91-915a-e193f59727f6",
   "metadata": {},
   "outputs": [],
   "source": [
    "img_data = np.array(img_data, dtype=np.int32)"
   ]
  },
  {
   "cell_type": "code",
   "execution_count": 154,
   "id": "9056c50c-0569-4382-bd7f-e44b186a8a32",
   "metadata": {},
   "outputs": [
    {
     "data": {
      "text/plain": [
       "torch.Size([200, 256, 5, 5])"
      ]
     },
     "execution_count": 154,
     "metadata": {},
     "output_type": "execute_result"
    }
   ],
   "source": [
    "model(torch.Tensor(img_data).permute(0,3,1,2)).shape"
   ]
  },
  {
   "cell_type": "code",
   "execution_count": 155,
   "id": "9296160f-cb6a-4a4f-96d2-669544a21676",
   "metadata": {},
   "outputs": [
    {
     "data": {
      "text/plain": [
       "[(0, array([17, 25]), 'rectangle'),\n",
       " (1, array([22, 42]), 'rectangle'),\n",
       " (2, array([13, 47]), 'circle'),\n",
       " (3, array([66, 62]), 'rectangle'),\n",
       " (4, array([53, 35]), 'circle'),\n",
       " (5, array([28, 28]), 'rectangle')]"
      ]
     },
     "execution_count": 155,
     "metadata": {},
     "output_type": "execute_result"
    }
   ],
   "source": [
    "one_obj"
   ]
  },
  {
   "cell_type": "code",
   "execution_count": 127,
   "id": "74201507-41d7-40b1-93fb-dce413204d67",
   "metadata": {},
   "outputs": [
    {
     "name": "stdout",
     "output_type": "stream",
     "text": [
      "yellow left? ==> no\n",
      "red shape? ==> rectangle\n",
      "gray up? ==> no\n",
      "red up? ==> yes\n",
      "green up? ==> yes\n",
      "yellow left? ==> no\n",
      "gray shape? ==> rectangle\n",
      "red up? ==> yes\n",
      "yellow up? ==> no\n",
      "gray up? ==> no\n"
     ]
    }
   ],
   "source": [
    "decode_question(*data[2])"
   ]
  },
  {
   "cell_type": "code",
   "execution_count": 123,
   "id": "16f4db94-b931-4845-8f39-e05cd9b501df",
   "metadata": {},
   "outputs": [
    {
     "data": {
      "text/plain": [
       "True"
      ]
     },
     "execution_count": 123,
     "metadata": {},
     "output_type": "execute_result"
    }
   ],
   "source": [
    "cv2.imwrite('sample1new.jpg',(data[0]*255).astype(np.int32))"
   ]
  },
  {
   "cell_type": "code",
   "execution_count": 102,
   "id": "e4785c6c-a38b-4aaf-8daf-545f072e58a7",
   "metadata": {},
   "outputs": [
    {
     "data": {
      "text/plain": [
       "[(0, array([ 6, 17]), 'rectangle'),\n",
       " (1, array([44, 24]), 'rectangle'),\n",
       " (2, array([60, 64]), 'circle'),\n",
       " (3, array([ 7, 38]), 'circle'),\n",
       " (4, array([49, 58]), 'rectangle'),\n",
       " (5, array([42, 67]), 'circle')]"
      ]
     },
     "execution_count": 102,
     "metadata": {},
     "output_type": "execute_result"
    }
   ],
   "source": [
    "obj"
   ]
  },
  {
   "cell_type": "code",
   "execution_count": 110,
   "id": "f70e5cc7-0bba-4ad8-bd09-2db3c380affa",
   "metadata": {},
   "outputs": [
    {
     "data": {
      "text/plain": [
       "<matplotlib.image.AxesImage at 0x7fdffdd23ac0>"
      ]
     },
     "execution_count": 110,
     "metadata": {},
     "output_type": "execute_result"
    },
    {
     "data": {
      "image/png": "[encoded data removed]",
      "text/plain": [
       "<Figure size 640x480 with 1 Axes>"
      ]
     },
     "metadata": {},
     "output_type": "display_data"
    }
   ],
   "source": [
    "# plt.imshow(data[0])\n",
    "plt.imshow((data[0] * 255).astype(int))"
   ]
  }
 ],
 "metadata": {
  "kernelspec": {
   "display_name": "Python 3 (ipykernel)",
   "language": "python",
   "name": "python3"
  },
  "language_info": {
   "codemirror_mode": {
    "name": "ipython",
    "version": 3
   },
   "file_extension": ".py",
   "mimetype": "text/x-python",
   "name": "python",
   "nbconvert_exporter": "python",
   "pygments_lexer": "ipython3",
   "version": "3.10.8"
  }
 },
 "nbformat": 4,
 "nbformat_minor": 5
}
